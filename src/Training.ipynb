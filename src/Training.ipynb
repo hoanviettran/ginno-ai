{
 "cells": [
  {
   "cell_type": "code",
   "execution_count": 1,
   "metadata": {},
   "outputs": [],
   "source": [
    "from __future__ import absolute_import\n",
    "from __future__ import division\n",
    "from __future__ import print_function\n",
    "\n",
    "from datetime import datetime\n",
    "import os.path\n",
    "import time\n",
    "import sys\n",
    "import random\n",
    "import tensorflow as tf\n",
    "import numpy as np\n",
    "import importlib\n",
    "import argparse\n",
    "import facenet\n",
    "import lfw\n",
    "import h5py\n",
    "import tensorflow.contrib.slim as slim\n",
    "from tensorflow.python.ops import data_flow_ops\n",
    "from tensorflow.python.framework import ops\n",
    "from tensorflow.python.ops import array_ops"
   ]
  },
  {
   "cell_type": "code",
   "execution_count": 2,
   "metadata": {},
   "outputs": [],
   "source": [
    "network = importlib.import_module('models.inception_resnet_v1')"
   ]
  },
  {
   "cell_type": "code",
   "execution_count": 3,
   "metadata": {},
   "outputs": [],
   "source": [
    "logs_base_dir = '/mnt/data/facenet/logs/facenet'\n",
    "models_base_dir = '/mnt/data/facenet/models/facenet'\n",
    "data_dir = '/mnt/data/Face_dataset/lfw_crop'\n",
    "lfw_dir = '/mnt/data/Face_dataset/lfw_crop'\n",
    "lfw_pairs = '/mnt/data/facenet/data/pairs.txt'\n",
    "lfw_file_ext= 'png'\n",
    "embedding_size = 512\n",
    "nrof_preprocess_threads = 1\n",
    "image_size_arg = 160\n",
    "image_size = (160,160)\n",
    "epoch_size = 1000\n",
    "batch_size = 90\n",
    "seed = 666\n",
    "weight_decay = 5e-4\n",
    "keep_probability = 0.8\n",
    "filter_filename = ''\n",
    "filter_percentile = 100.0\n",
    "filter_min_nrof_images_per_class = 0\n",
    "validation_set_split_ratio = 0.05\n",
    "min_nrof_val_images_per_class = 0"
   ]
  },
  {
   "cell_type": "code",
   "execution_count": 4,
   "metadata": {},
   "outputs": [],
   "source": [
    "subdir = datetime.strftime(datetime.now(), '%Y%m%d-%H%M%S')\n",
    "log_dir = os.path.join(os.path.expanduser(logs_base_dir), subdir)\n",
    "if not os.path.isdir(log_dir):  # Create the log directory if it doesn't exist\n",
    "    os.makedirs(log_dir)\n",
    "model_dir = os.path.join(os.path.expanduser(models_base_dir), subdir)\n",
    "if not os.path.isdir(model_dir):  # Create the model directory if it doesn't exist\n",
    "    os.makedirs(model_dir)"
   ]
  },
  {
   "cell_type": "code",
   "execution_count": 7,
   "metadata": {},
   "outputs": [
    {
     "ename": "NameError",
     "evalue": "name 'args' is not defined",
     "output_type": "error",
     "traceback": [
      "\u001b[0;31m---------------------------------------------------------------------------\u001b[0m",
      "\u001b[0;31mNameError\u001b[0m                                 Traceback (most recent call last)",
      "\u001b[0;32m<ipython-input-7-79591ad06185>\u001b[0m in \u001b[0;36m<module>\u001b[0;34m()\u001b[0m\n\u001b[0;32m----> 1\u001b[0;31m \u001b[0mfacenet\u001b[0m\u001b[0;34m.\u001b[0m\u001b[0mwrite_arguments_to_file\u001b[0m\u001b[0;34m(\u001b[0m\u001b[0margs\u001b[0m\u001b[0;34m,\u001b[0m \u001b[0mos\u001b[0m\u001b[0;34m.\u001b[0m\u001b[0mpath\u001b[0m\u001b[0;34m.\u001b[0m\u001b[0mjoin\u001b[0m\u001b[0;34m(\u001b[0m\u001b[0mlog_dir\u001b[0m\u001b[0;34m,\u001b[0m \u001b[0;34m'arguments.txt'\u001b[0m\u001b[0;34m)\u001b[0m\u001b[0;34m)\u001b[0m\u001b[0;34m\u001b[0m\u001b[0m\n\u001b[0m",
      "\u001b[0;31mNameError\u001b[0m: name 'args' is not defined"
     ]
    }
   ],
   "source": [
    "facenet.write_arguments_to_file(args, os.path.join(log_dir, 'arguments.txt'))"
   ]
  },
  {
   "cell_type": "code",
   "execution_count": 5,
   "metadata": {},
   "outputs": [
    {
     "ename": "NameError",
     "evalue": "name '__file__' is not defined",
     "output_type": "error",
     "traceback": [
      "\u001b[0;31m---------------------------------------------------------------------------\u001b[0m",
      "\u001b[0;31mNameError\u001b[0m                                 Traceback (most recent call last)",
      "\u001b[0;32m<ipython-input-5-499e799b0561>\u001b[0m in \u001b[0;36m<module>\u001b[0;34m()\u001b[0m\n\u001b[0;32m----> 1\u001b[0;31m \u001b[0msrc_path\u001b[0m\u001b[0;34m,\u001b[0m\u001b[0m_\u001b[0m \u001b[0;34m=\u001b[0m \u001b[0mos\u001b[0m\u001b[0;34m.\u001b[0m\u001b[0mpath\u001b[0m\u001b[0;34m.\u001b[0m\u001b[0msplit\u001b[0m\u001b[0;34m(\u001b[0m\u001b[0mos\u001b[0m\u001b[0;34m.\u001b[0m\u001b[0mpath\u001b[0m\u001b[0;34m.\u001b[0m\u001b[0mrealpath\u001b[0m\u001b[0;34m(\u001b[0m\u001b[0m__file__\u001b[0m\u001b[0;34m)\u001b[0m\u001b[0;34m)\u001b[0m\u001b[0;34m\u001b[0m\u001b[0m\n\u001b[0m\u001b[1;32m      2\u001b[0m \u001b[0mfacenet\u001b[0m\u001b[0;34m.\u001b[0m\u001b[0mstore_revision_info\u001b[0m\u001b[0;34m(\u001b[0m\u001b[0msrc_path\u001b[0m\u001b[0;34m,\u001b[0m \u001b[0mlog_dir\u001b[0m\u001b[0;34m,\u001b[0m \u001b[0;34m' '\u001b[0m\u001b[0;34m.\u001b[0m\u001b[0mjoin\u001b[0m\u001b[0;34m(\u001b[0m\u001b[0msys\u001b[0m\u001b[0;34m.\u001b[0m\u001b[0margv\u001b[0m\u001b[0;34m)\u001b[0m\u001b[0;34m)\u001b[0m\u001b[0;34m\u001b[0m\u001b[0m\n",
      "\u001b[0;31mNameError\u001b[0m: name '__file__' is not defined"
     ]
    }
   ],
   "source": [
    "src_path,_ = os.path.split(os.path.realpath(__file__))\n",
    "facenet.store_revision_info(src_path, log_dir, ' '.join(sys.argv))"
   ]
  },
  {
   "cell_type": "code",
   "execution_count": 6,
   "metadata": {},
   "outputs": [],
   "source": [
    "np.random.seed(seed=seed)\n",
    "random.seed(seed)\n",
    "dataset = facenet.get_dataset(data_dir)\n",
    "if filter_filename:\n",
    "    dataset = filter_dataset(dataset, os.path.expanduser(filter_filename), \n",
    "        filter_percentile, filter_min_nrof_images_per_class)\n",
    "\n",
    "if validation_set_split_ratio>0.0:\n",
    "    train_set, val_set = facenet.split_dataset(dataset, validation_set_split_ratio, min_nrof_val_images_per_class, 'SPLIT_IMAGES')\n",
    "else:\n",
    "    train_set, val_set = dataset, []"
   ]
  },
  {
   "cell_type": "code",
   "execution_count": 7,
   "metadata": {},
   "outputs": [
    {
     "data": {
      "text/plain": [
       "5749"
      ]
     },
     "execution_count": 7,
     "metadata": {},
     "output_type": "execute_result"
    }
   ],
   "source": [
    "len(dataset)\n",
    "# len(val_set)"
   ]
  },
  {
   "cell_type": "code",
   "execution_count": 7,
   "metadata": {},
   "outputs": [
    {
     "name": "stdout",
     "output_type": "stream",
     "text": [
      "Model directory: /mnt/data/facenet/models/facenet/20180831-153257\n",
      "Log directory: /mnt/data/facenet/logs/facenet/20180831-153257\n"
     ]
    }
   ],
   "source": [
    "print('Model directory: %s' % model_dir)\n",
    "print('Log directory: %s' % log_dir)\n",
    "pretrained_model = None"
   ]
  },
  {
   "cell_type": "code",
   "execution_count": 15,
   "metadata": {},
   "outputs": [
    {
     "name": "stdout",
     "output_type": "stream",
     "text": [
      "LFW directory: /mnt/data/Face_dataset/lfw_crop\n"
     ]
    }
   ],
   "source": [
    "if lfw_dir:\n",
    "    print('LFW directory: %s' % lfw_dir)\n",
    "    # Read the file containing the pairs used for testing\n",
    "    pairs = lfw.read_pairs(os.path.expanduser(lfw_pairs))\n",
    "    # Get the paths for the corresponding images\n",
    "    lfw_paths, actual_issame = lfw.get_paths(os.path.expanduser(lfw_dir), pairs)"
   ]
  },
  {
   "cell_type": "code",
   "execution_count": 54,
   "metadata": {},
   "outputs": [
    {
     "data": {
      "text/plain": [
       "6000"
      ]
     },
     "execution_count": 54,
     "metadata": {},
     "output_type": "execute_result"
    }
   ],
   "source": [
    "len(actual_issame)"
   ]
  },
  {
   "cell_type": "code",
   "execution_count": 21,
   "metadata": {},
   "outputs": [],
   "source": [
    "graph = tf.get_default_graph()"
   ]
  },
  {
   "cell_type": "code",
   "execution_count": 22,
   "metadata": {},
   "outputs": [],
   "source": [
    "tf.set_random_seed(seed)\n",
    "global_step = tf.Variable(0, trainable=False)"
   ]
  },
  {
   "cell_type": "code",
   "execution_count": 75,
   "metadata": {},
   "outputs": [],
   "source": [
    "# Get a list of image paths and their labels\n",
    "image_list, label_list = facenet.get_image_paths_and_labels(train_set)\n",
    "assert len(image_list)>0, 'The dataset should not be empty'\n",
    "val_image_list, val_label_list = facenet.get_image_paths_and_labels(val_set)"
   ]
  },
  {
   "cell_type": "code",
   "execution_count": 63,
   "metadata": {},
   "outputs": [
    {
     "data": {
      "text/plain": [
       "13233"
      ]
     },
     "execution_count": 63,
     "metadata": {},
     "output_type": "execute_result"
    }
   ],
   "source": [
    "len(image_list)"
   ]
  },
  {
   "cell_type": "code",
   "execution_count": 28,
   "metadata": {},
   "outputs": [],
   "source": [
    "# Create a queue that produces indices into the image_list and label_list \n",
    "labels = ops.convert_to_tensor(label_list, dtype=tf.int32)\n",
    "range_size = array_ops.shape(labels)[0]\n",
    "index_queue = tf.train.range_input_producer(range_size, num_epochs=None,\n",
    "                     shuffle=True, seed=None, capacity=32)"
   ]
  },
  {
   "cell_type": "code",
   "execution_count": 29,
   "metadata": {},
   "outputs": [
    {
     "data": {
      "text/plain": [
       "<tensorflow.python.ops.data_flow_ops.FIFOQueue at 0x7fe460748c50>"
      ]
     },
     "execution_count": 29,
     "metadata": {},
     "output_type": "execute_result"
    }
   ],
   "source": [
    "index_queue"
   ]
  },
  {
   "cell_type": "code",
   "execution_count": 30,
   "metadata": {},
   "outputs": [],
   "source": [
    "index_dequeue_op = index_queue.dequeue_many(batch_size*epoch_size, 'index_dequeue')\n",
    "\n",
    "learning_rate_placeholder = tf.placeholder(tf.float32, name='learning_rate')\n",
    "batch_size_placeholder = tf.placeholder(tf.int32, name='batch_size')\n",
    "phase_train_placeholder = tf.placeholder(tf.bool, name='phase_train')\n",
    "image_paths_placeholder = tf.placeholder(tf.string, shape=(None,1), name='image_paths')\n",
    "labels_placeholder = tf.placeholder(tf.int32, shape=(None,1), name='labels')\n",
    "control_placeholder = tf.placeholder(tf.int32, shape=(None,1), name='control')"
   ]
  },
  {
   "cell_type": "code",
   "execution_count": 31,
   "metadata": {},
   "outputs": [],
   "source": [
    "input_queue = data_flow_ops.FIFOQueue(capacity=2000000,\n",
    "                                    dtypes=[tf.string, tf.int32, tf.int32],\n",
    "                                    shapes=[(1,), (1,), (1,)],\n",
    "                                    shared_name=None, name=None)\n",
    "enqueue_op = input_queue.enqueue_many([image_paths_placeholder, labels_placeholder, control_placeholder], \n",
    "                                      name='enqueue_op')"
   ]
  },
  {
   "cell_type": "code",
   "execution_count": 51,
   "metadata": {},
   "outputs": [
    {
     "data": {
      "text/plain": [
       "<tf.Operation 'enqueue_op_1' type=QueueEnqueueManyV2>"
      ]
     },
     "execution_count": 51,
     "metadata": {},
     "output_type": "execute_result"
    }
   ],
   "source": [
    "enqueue_op"
   ]
  },
  {
   "cell_type": "code",
   "execution_count": 42,
   "metadata": {},
   "outputs": [],
   "source": [
    "image_batch, label_batch = facenet.create_input_pipeline(input_queue, image_size, nrof_preprocess_threads, batch_size_placeholder)"
   ]
  },
  {
   "cell_type": "code",
   "execution_count": 49,
   "metadata": {},
   "outputs": [
    {
     "data": {
      "text/plain": [
       "<tf.Tensor 'batch_join:1' shape=(?,) dtype=int32>"
      ]
     },
     "execution_count": 49,
     "metadata": {},
     "output_type": "execute_result"
    }
   ],
   "source": [
    "label_batch"
   ]
  },
  {
   "cell_type": "code",
   "execution_count": 76,
   "metadata": {},
   "outputs": [
    {
     "name": "stdout",
     "output_type": "stream",
     "text": [
      "Number of classes in training set: 5749\n",
      "Number of examples in training set: 7361\n",
      "Number of classes in validation set: 5749\n",
      "Number of examples in validation set: 5872\n",
      "Building training graph\n"
     ]
    }
   ],
   "source": [
    "image_batch = tf.identity(image_batch, 'image_batch')\n",
    "image_batch = tf.identity(image_batch, 'input')\n",
    "label_batch = tf.identity(label_batch, 'label_batch')\n",
    "\n",
    "print('Number of classes in training set: %d' % nrof_classes)\n",
    "print('Number of examples in training set: %d' % len(image_list))\n",
    "\n",
    "print('Number of classes in validation set: %d' % len(val_set))\n",
    "print('Number of examples in validation set: %d' % len(val_image_list))\n",
    "\n",
    "print('Building training graph')"
   ]
  },
  {
   "cell_type": "code",
   "execution_count": 82,
   "metadata": {},
   "outputs": [],
   "source": [
    "prelogits, _ = network.inference(image_batch, keep_probability, \n",
    "            phase_train=phase_train_placeholder, bottleneck_layer_size=embedding_size, \n",
    "            weight_decay=weight_decay)"
   ]
  },
  {
   "cell_type": "code",
   "execution_count": 83,
   "metadata": {},
   "outputs": [],
   "source": [
    "logits = slim.fully_connected(prelogits, len(train_set), activation_fn=None, \n",
    "                weights_initializer=slim.initializers.xavier_initializer(), \n",
    "                weights_regularizer=slim.l2_regularizer(weight_decay),\n",
    "                scope='Logits', reuse=False)"
   ]
  },
  {
   "cell_type": "code",
   "execution_count": 84,
   "metadata": {},
   "outputs": [],
   "source": [
    " embeddings = tf.nn.l2_normalize(prelogits, 1, 1e-10, name='embeddings')"
   ]
  },
  {
   "cell_type": "code",
   "execution_count": 8,
   "metadata": {},
   "outputs": [
    {
     "data": {
      "text/plain": [
       "[1, 2, 3, 3]"
      ]
     },
     "execution_count": 8,
     "metadata": {},
     "output_type": "execute_result"
    }
   ],
   "source": [
    "[1,2] + [3]*2 "
   ]
  },
  {
   "cell_type": "code",
   "execution_count": null,
   "metadata": {},
   "outputs": [],
   "source": []
  }
 ],
 "metadata": {
  "kernelspec": {
   "display_name": "Python 3",
   "language": "python",
   "name": "python3"
  },
  "language_info": {
   "codemirror_mode": {
    "name": "ipython",
    "version": 3
   },
   "file_extension": ".py",
   "mimetype": "text/x-python",
   "name": "python",
   "nbconvert_exporter": "python",
   "pygments_lexer": "ipython3",
   "version": "3.5.2"
  }
 },
 "nbformat": 4,
 "nbformat_minor": 2
}
